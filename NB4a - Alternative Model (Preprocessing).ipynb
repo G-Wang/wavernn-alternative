{
 "cells": [
  {
   "cell_type": "markdown",
   "metadata": {},
   "source": [
    "## Alternative Model (Preprocessing)\n",
    "You need to run this before you run notebook 4b.\n",
    "\n",
    "The wavs in your dataset will be converted to 9bit linear and 80-band mels."
   ]
  },
  {
   "cell_type": "code",
   "execution_count": null,
   "metadata": {},
   "outputs": [],
   "source": [
    "%matplotlib inline\n",
    "import matplotlib.pyplot as plt\n",
    "import math, pickle, os, glob\n",
    "from nnmnkwii import preprocessing as P\n",
    "import numpy as np\n",
    "from utils.display import *\n",
    "from tqdm import tqdm"
   ]
  },
  {
   "cell_type": "code",
   "execution_count": null,
   "metadata": {},
   "outputs": [],
   "source": [
    "bits = 9\n",
    "notebook_name = 'nb4'\n",
    "use_deepvoice_preprocessing = True\n",
    "use_mu_law = True\n",
    "\n",
    "if use_mu_law:\n",
    "    print(\"using mu_loaw\")\n",
    "    \n",
    "if use_deepvoice_preprocessing:\n",
    "    print(\"using deepvoice\")\n",
    "    from utils.audio import *\n",
    "else:\n",
    "    print(\"using original\")\n",
    "    from utils.dsp import *"
   ]
  },
  {
   "cell_type": "code",
   "execution_count": null,
   "metadata": {},
   "outputs": [],
   "source": [
    "# Point SEG_PATH to a folder containing your training wavs \n",
    "# Doesn't matter if it's LJspeech, CMU Arctic etc. it should work fine\n",
    "SEG_PATH = '/media/gary/more_storage/audio_dataset/LJSpeech-1.1/wavs/' \n",
    "DATA_PATH = f'data/{notebook_name}/'\n",
    "%mkdir -p $DATA_PATH"
   ]
  },
  {
   "cell_type": "code",
   "execution_count": null,
   "metadata": {},
   "outputs": [],
   "source": [
    "def get_files(path, extension='.wav') :\n",
    "    filenames = []\n",
    "    for filename in glob.iglob(f'{path}/**/*{extension}', recursive=True):\n",
    "        filenames += [filename]\n",
    "    return filenames"
   ]
  },
  {
   "cell_type": "code",
   "execution_count": null,
   "metadata": {},
   "outputs": [],
   "source": [
    "wav_files = get_files(SEG_PATH)"
   ]
  },
  {
   "cell_type": "code",
   "execution_count": null,
   "metadata": {},
   "outputs": [],
   "source": [
    "def convert_file(path) :\n",
    "    wav = load_wav(path)\n",
    "    mel = melspectrogram(wav)\n",
    "    if use_mu_law:\n",
    "        quant = P.mulaw_quantize(wav)\n",
    "    else:\n",
    "        quant = (wav + 1.) * (2**bits - 1) / 2\n",
    "    return mel.astype(np.float32), quant.astype(np.int)"
   ]
  },
  {
   "cell_type": "code",
   "execution_count": null,
   "metadata": {},
   "outputs": [],
   "source": [
    "m, x = convert_file(wav_files[1])"
   ]
  },
  {
   "cell_type": "code",
   "execution_count": null,
   "metadata": {},
   "outputs": [],
   "source": [
    "plot_spec(m)"
   ]
  },
  {
   "cell_type": "code",
   "execution_count": null,
   "metadata": {},
   "outputs": [],
   "source": [
    "plot(x)"
   ]
  },
  {
   "cell_type": "code",
   "execution_count": null,
   "metadata": {},
   "outputs": [],
   "source": [
    "x = 2 * x / (2**bits - 1) - 1"
   ]
  },
  {
   "cell_type": "code",
   "execution_count": null,
   "metadata": {},
   "outputs": [],
   "source": [
    "librosa.output.write_wav(DATA_PATH + 'test_quant.wav', x, sr=sample_rate)"
   ]
  },
  {
   "cell_type": "code",
   "execution_count": null,
   "metadata": {},
   "outputs": [],
   "source": [
    "QUANT_PATH = DATA_PATH + 'quant/'\n",
    "MEL_PATH = DATA_PATH + 'mel/'\n",
    "%mkdir -p $QUANT_PATH\n",
    "%mkdir -p $MEL_PATH"
   ]
  },
  {
   "cell_type": "code",
   "execution_count": null,
   "metadata": {},
   "outputs": [],
   "source": [
    "wav_files[0].split('/')[-1][:-4]"
   ]
  },
  {
   "cell_type": "code",
   "execution_count": null,
   "metadata": {},
   "outputs": [],
   "source": [
    "# This will take a while depending on size of dataset\n",
    "dataset_ids = []\n",
    "for i, path in enumerate(tqdm(wav_files)):\n",
    "    id = path.split('/')[-1][:-4]\n",
    "    dataset_ids += [id]\n",
    "    m, x = convert_file(path)\n",
    "    np.save(f'{MEL_PATH}{id}.npy', m)\n",
    "    np.save(f'{QUANT_PATH}{id}.npy', x)"
   ]
  },
  {
   "cell_type": "code",
   "execution_count": null,
   "metadata": {},
   "outputs": [],
   "source": [
    "with open(DATA_PATH + 'dataset_ids.pkl', 'wb') as f:\n",
    "    pickle.dump(dataset_ids, f)"
   ]
  },
  {
   "cell_type": "code",
   "execution_count": null,
   "metadata": {},
   "outputs": [],
   "source": []
  }
 ],
 "metadata": {
  "kernelspec": {
   "display_name": "pytorch",
   "language": "python",
   "name": "pytorch"
  },
  "language_info": {
   "codemirror_mode": {
    "name": "ipython",
    "version": 3
   },
   "file_extension": ".py",
   "mimetype": "text/x-python",
   "name": "python",
   "nbconvert_exporter": "python",
   "pygments_lexer": "ipython3",
   "version": "3.6.6"
  }
 },
 "nbformat": 4,
 "nbformat_minor": 2
}
